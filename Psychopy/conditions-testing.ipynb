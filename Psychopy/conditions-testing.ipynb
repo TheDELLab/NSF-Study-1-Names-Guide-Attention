{
 "cells": [
  {
   "cell_type": "code",
   "execution_count": 2,
   "id": "b43132da",
   "metadata": {},
   "outputs": [],
   "source": [
    "import pandas as pd "
   ]
  },
  {
   "cell_type": "code",
   "execution_count": 9,
   "id": "87fd9ef2",
   "metadata": {},
   "outputs": [],
   "source": [
    "conditions = pd.read_csv(\"./conditions/Sample_Conditions.csv\").drop('Unnamed: 0',axis=1)\n",
    "#CONDITION_NUM = 2 ## CHANGE THE CONDITION NUMBER TO TOGGLE BETWEEN THE TRIAL TYPE ( Current options 1 or 2 ) \n",
    "cond = conditions[conditions['Conditions']==CONDITION_NUM] \n",
    "cond = cond.reset_index(drop=True)\n",
    "cond = cond.sample(frac=1) # sample rows and with replacement ( Shuffles all the samples ) \n",
    "trial_range = cond['Trials']# Trial range - 0 to 9\n",
    "audio = cond['Audio']"
   ]
  },
  {
   "cell_type": "code",
   "execution_count": 13,
   "id": "0c2cc174",
   "metadata": {},
   "outputs": [
    {
     "data": {
      "text/html": [
       "<div>\n",
       "<style scoped>\n",
       "    .dataframe tbody tr th:only-of-type {\n",
       "        vertical-align: middle;\n",
       "    }\n",
       "\n",
       "    .dataframe tbody tr th {\n",
       "        vertical-align: top;\n",
       "    }\n",
       "\n",
       "    .dataframe thead th {\n",
       "        text-align: right;\n",
       "    }\n",
       "</style>\n",
       "<table border=\"1\" class=\"dataframe\">\n",
       "  <thead>\n",
       "    <tr style=\"text-align: right;\">\n",
       "      <th></th>\n",
       "      <th>Conditions</th>\n",
       "      <th>Trials</th>\n",
       "      <th>Number_type</th>\n",
       "      <th>Other_features</th>\n",
       "      <th>Target</th>\n",
       "      <th>Foil</th>\n",
       "      <th>Location</th>\n",
       "      <th>Answer</th>\n",
       "      <th>Audio</th>\n",
       "      <th>RT</th>\n",
       "    </tr>\n",
       "  </thead>\n",
       "  <tbody>\n",
       "    <tr>\n",
       "      <th>2</th>\n",
       "      <td>2</td>\n",
       "      <td>2</td>\n",
       "      <td>2 digits</td>\n",
       "      <td>none</td>\n",
       "      <td>49</td>\n",
       "      <td>94</td>\n",
       "      <td>left</td>\n",
       "      <td>NaN</td>\n",
       "      <td>Here is a number. Look at it closely</td>\n",
       "      <td>NaN</td>\n",
       "    </tr>\n",
       "    <tr>\n",
       "      <th>15</th>\n",
       "      <td>2</td>\n",
       "      <td>15</td>\n",
       "      <td>3 digits</td>\n",
       "      <td>swap_2_3</td>\n",
       "      <td>745</td>\n",
       "      <td>754</td>\n",
       "      <td>right</td>\n",
       "      <td>NaN</td>\n",
       "      <td>Look at this new number.</td>\n",
       "      <td>NaN</td>\n",
       "    </tr>\n",
       "    <tr>\n",
       "      <th>9</th>\n",
       "      <td>2</td>\n",
       "      <td>9</td>\n",
       "      <td>2 digits</td>\n",
       "      <td>none</td>\n",
       "      <td>37</td>\n",
       "      <td>73</td>\n",
       "      <td>right</td>\n",
       "      <td>NaN</td>\n",
       "      <td>Look, here is a number.</td>\n",
       "      <td>NaN</td>\n",
       "    </tr>\n",
       "    <tr>\n",
       "      <th>12</th>\n",
       "      <td>2</td>\n",
       "      <td>12</td>\n",
       "      <td>3 digits</td>\n",
       "      <td>swap_2_3</td>\n",
       "      <td>132</td>\n",
       "      <td>123</td>\n",
       "      <td>left</td>\n",
       "      <td>NaN</td>\n",
       "      <td>Look at this number. Look at it closely</td>\n",
       "      <td>NaN</td>\n",
       "    </tr>\n",
       "    <tr>\n",
       "      <th>0</th>\n",
       "      <td>2</td>\n",
       "      <td>0</td>\n",
       "      <td>2 digits</td>\n",
       "      <td>none</td>\n",
       "      <td>27</td>\n",
       "      <td>72</td>\n",
       "      <td>left</td>\n",
       "      <td>NaN</td>\n",
       "      <td>Look at this number. Look at it closely</td>\n",
       "      <td>NaN</td>\n",
       "    </tr>\n",
       "  </tbody>\n",
       "</table>\n",
       "</div>"
      ],
      "text/plain": [
       "    Conditions  Trials Number_type Other_features  Target  Foil Location   \n",
       "2            2       2    2 digits           none      49    94     left  \\\n",
       "15           2      15    3 digits       swap_2_3     745   754    right   \n",
       "9            2       9    2 digits           none      37    73    right   \n",
       "12           2      12    3 digits       swap_2_3     132   123     left   \n",
       "0            2       0    2 digits           none      27    72     left   \n",
       "\n",
       "    Answer                                    Audio  RT  \n",
       "2      NaN     Here is a number. Look at it closely NaN  \n",
       "15     NaN                 Look at this new number. NaN  \n",
       "9      NaN                  Look, here is a number. NaN  \n",
       "12     NaN  Look at this number. Look at it closely NaN  \n",
       "0      NaN  Look at this number. Look at it closely NaN  "
      ]
     },
     "execution_count": 13,
     "metadata": {},
     "output_type": "execute_result"
    }
   ],
   "source": [
    "cond.head(5)"
   ]
  },
  {
   "cell_type": "code",
   "execution_count": null,
   "id": "cdcf946b",
   "metadata": {},
   "outputs": [],
   "source": [
    "cond"
   ]
  },
  {
   "cell_type": "code",
   "execution_count": 15,
   "id": "13dad026",
   "metadata": {},
   "outputs": [
    {
     "name": "stdout",
     "output_type": "stream",
     "text": [
      "none\n",
      "swap_2_3\n",
      "none\n",
      "swap_2_3\n",
      "none\n",
      "swap_2_3\n",
      "none\n",
      "swap_1_2\n",
      "none\n",
      "swap_1_2\n",
      "none\n",
      "swap_1_3\n",
      "swap_1_3\n",
      "none\n",
      "none\n",
      "swap_2_3\n",
      "none\n",
      "swap_2_3\n",
      "swap_1_2\n",
      "swap_2_3\n",
      "none\n",
      "none\n",
      "none\n",
      "swap_1_3\n"
     ]
    }
   ],
   "source": [
    "for trial in trial_range:\n",
    "    print(cond.loc[trial,'Other_features'])"
   ]
  },
  {
   "cell_type": "code",
   "execution_count": 23,
   "id": "98e319ed",
   "metadata": {},
   "outputs": [
    {
     "name": "stdout",
     "output_type": "stream",
     "text": [
      "0: checkpoint\n",
      "6: checkpoint\n",
      "12: checkpoint\n",
      "18: checkpoint\n"
     ]
    }
   ],
   "source": [
    "for x in range(24):\n",
    "    if x % 6 == 0:\n",
    "        print(f\"{x}: checkpoint\")"
   ]
  },
  {
   "cell_type": "code",
   "execution_count": null,
   "id": "1d98d1a7",
   "metadata": {},
   "outputs": [],
   "source": []
  }
 ],
 "metadata": {
  "kernelspec": {
   "display_name": "Python 3 (ipykernel)",
   "language": "python",
   "name": "python3"
  },
  "language_info": {
   "codemirror_mode": {
    "name": "ipython",
    "version": 3
   },
   "file_extension": ".py",
   "mimetype": "text/x-python",
   "name": "python",
   "nbconvert_exporter": "python",
   "pygments_lexer": "ipython3",
   "version": "3.10.11"
  }
 },
 "nbformat": 4,
 "nbformat_minor": 5
}
