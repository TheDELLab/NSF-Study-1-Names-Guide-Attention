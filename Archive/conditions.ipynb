{
 "cells": [
  {
   "cell_type": "code",
   "execution_count": 1,
   "id": "2b73ba8d",
   "metadata": {},
   "outputs": [],
   "source": [
    "import pandas as pd"
   ]
  },
  {
   "cell_type": "code",
   "execution_count": 4,
   "id": "b1d81846",
   "metadata": {},
   "outputs": [],
   "source": [
    "conditions = pd.read_csv(\"Sample_Conditions.csv\").drop('Unnamed: 0',axis=1)\n",
    "cond_1 = conditions[conditions['Conditions']==2]\n",
    "trial_range = cond_1['Trials'] "
   ]
  },
  {
   "cell_type": "code",
   "execution_count": 9,
   "id": "46c34ab6",
   "metadata": {},
   "outputs": [],
   "source": [
    "cond_1 = cond_1.reset_index(drop=True)"
   ]
  },
  {
   "cell_type": "code",
   "execution_count": 10,
   "id": "1024ad5c",
   "metadata": {},
   "outputs": [
    {
     "data": {
      "text/plain": [
       "35"
      ]
     },
     "execution_count": 10,
     "metadata": {},
     "output_type": "execute_result"
    }
   ],
   "source": [
    "cond_1.loc[0,'Target']"
   ]
  },
  {
   "cell_type": "code",
   "execution_count": null,
   "id": "81922bc0",
   "metadata": {},
   "outputs": [],
   "source": []
  }
 ],
 "metadata": {
  "kernelspec": {
   "display_name": "Python 3 (ipykernel)",
   "language": "python",
   "name": "python3"
  },
  "language_info": {
   "codemirror_mode": {
    "name": "ipython",
    "version": 3
   },
   "file_extension": ".py",
   "mimetype": "text/x-python",
   "name": "python",
   "nbconvert_exporter": "python",
   "pygments_lexer": "ipython3",
   "version": "3.10.11"
  }
 },
 "nbformat": 4,
 "nbformat_minor": 5
}
